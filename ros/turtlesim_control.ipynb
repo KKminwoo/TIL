{
  "nbformat": 4,
  "nbformat_minor": 0,
  "metadata": {
    "colab": {
      "provenance": []
    },
    "kernelspec": {
      "name": "python3",
      "display_name": "Python 3"
    },
    "language_info": {
      "name": "python"
    }
  },
  "cells": [
    {
      "cell_type": "markdown",
      "source": [
        "### 문제\n",
        "\n",
        "아래 조건을 만족하며 turtlesim 패키를 제어하는 노드 코드를 구현하시오.\n",
        "\n",
        "- 제어 조건\n",
        "    \n",
        "    1. 첫 번째 거북이는 터미널에 사용자가 입력한 위치로 이동\n",
        "    2. 거북이 속도는 0.5로 설정하며, 노드 내 토픽 메시지는 10Hz로 발행\n",
        "    \n",
        "\n",
        "### 반환값\n",
        "\n",
        "- 시작점에서 도착점까지의 최단 경로를 나타내는 좌표 리스트 [(x1, y1), (x2, y2), ...]\n",
        "\n",
        "### 참고\n",
        "\n",
        "```python\n",
        "import rclpy\n",
        "from rclpy.node import Node\n",
        "from geometry_msgs.msg import Twist\n",
        "from turtlesim.msg import Pose as TurtlePose\n",
        "import math\n",
        "```\n",
        "\n",
        "- **`rospy`**를 사용하여 노드를 생성하고, **`geometry_msgs/Twist`** 메시지를 통해 거북이를 제어\n"
      ],
      "metadata": {
        "id": "T56LUcseJff8"
      }
    },
    {
      "cell_type": "code",
      "source": [
        "import rclpy\n",
        "from rclpy.node import Node\n",
        "from geometry_msgs.msg import Twist\n",
        "from turtlesim.msg import Pose as TurtlePose\n",
        "import math\n",
        "\n",
        "class TurtleControlNode(Node):\n",
        "    def __init__(self):\n",
        "        super().__init__('turtle_control_node')\n",
        "        self.publisher_ = self.create_publisher(Twist, 'turtle1/cmd_vel', 10)\n",
        "        self.subscriber_ = self.create_subscription(TurtlePose, 'turtle1/pose', self.pose_callback, 10)\n",
        "        self.get_logger().info(\"노드 초기화 완료\")\n",
        "        self.current_turtle_pose = TurtlePose()\n",
        "        self.target_pose = TurtlePose()\n",
        "        self.is_moving = False\n",
        "\n",
        "    def pose_callback(self, msg):\n",
        "        self.current_turtle_pose = msg\n",
        "\n",
        "        distance_to_target = self.calculate_distance(self.target_pose.x, self.target_pose.y)\n",
        "        if distance_to_target < 0.1:\n",
        "            self.get_logger().info(\"목표 지점에 도착하여 노드를 종료합니다.\")\n",
        "            self.is_moving = False\n",
        "            self.destroy_node()\n",
        "\n",
        "    def calculate_distance(self, target_x, target_y):\n",
        "        return math.sqrt((target_x - self.current_turtle_pose.x)**2 + (target_y - self.current_turtle_pose.y)**2)\n",
        "\n",
        "    def get_user_input(self):\n",
        "        x = float(input(\"목표 x 좌표를 입력하세요: \"))\n",
        "        y = float(input(\"목표 y 좌표를 입력하세요: \"))\n",
        "        return x, y\n",
        "\n",
        "    def run(self):\n",
        "        self.get_logger().info(\"터틀 제어 노드를 시작합니다.\")\n",
        "        self.is_moving = True\n",
        "\n",
        "        self.target_pose.x, self.target_pose.y = self.get_user_input()\n",
        "\n",
        "        while rclpy.ok() and self.is_moving:\n",
        "            msg = Twist()\n",
        "            angle_to_target = math.atan2(self.target_pose.y - self.current_turtle_pose.y,\n",
        "                                         self.target_pose.x - self.current_turtle_pose.x)\n",
        "            msg.linear.x = 0.5\n",
        "            msg.angular.z = angle_to_target - self.current_turtle_pose.theta\n",
        "\n",
        "            self.publisher_.publish(msg)\n",
        "            rclpy.spin_once(self)\n",
        "\n",
        "        self.get_logger().info(\"터틀 제어 노드를 종료합니다.\")\n",
        "\n",
        "def main(args=None):\n",
        "    rclpy.init(args=args)\n",
        "    node = TurtleControlNode()\n",
        "    node.run()\n",
        "    rclpy.shutdown()\n",
        "\n",
        "if __name__ == '__main__':\n",
        "    main()\n"
      ],
      "metadata": {
        "id": "kzu9k6IfJhK5"
      },
      "execution_count": null,
      "outputs": []
    }
  ]
}
