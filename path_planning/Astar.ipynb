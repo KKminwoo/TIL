{
  "nbformat": 4,
  "nbformat_minor": 0,
  "metadata": {
    "colab": {
      "provenance": []
    },
    "kernelspec": {
      "name": "python3",
      "display_name": "Python 3"
    },
    "language_info": {
      "name": "python"
    }
  },
  "cells": [
    {
      "cell_type": "markdown",
      "source": [
        "### 문제\n",
        "\n",
        "A* 알고리즘을 사용하여 시작점과 도착점이 주어졌을 때, 최단 경로를 찾는 함수를 구현하시오.\n",
        "\n",
        "```python\n",
        "def A_star_path_planning(start, end, obstacles)\n",
        "```\n",
        "\n",
        "- start: 시작점의 좌표 (x, y)\n",
        "- end: 도착점의 좌표 (x, y)\n",
        "- obstacles: 장애물의 좌표 리스트 [(x1, y1), (x2, y2), ...]\n",
        "\n",
        "### 반환값\n",
        "\n",
        "- 시작점에서 도착점까지의 최단 경로를 나타내는 좌표 리스트 [(x1, y1), (x2, y2), ...]\n",
        "\n",
        "### 참고\n",
        "\n",
        "- A* 알고리즘 : 시작점부터 도착점까지의 최단 경로를 찾는 알고리즘. Dijkstra 알고리즘과 유사하지만, 추가적인 휴리스틱(heuristic) 정보를 사용하여 탐색 속도를 높임.\n",
        "- **맨하탄 거리(Manhattan distance)**를 휴리스틱 함수로 사용. (맨하탄 거리 : 두 점 사이의 가로 및 세로 거리 차이만 고려한 거리)\n",
        "- keyword : heapq"
      ],
      "metadata": {
        "id": "-wORZVmMgf1Y"
      }
    },
    {
      "cell_type": "code",
      "source": [
        "from typing import List, Tuple\n",
        "import heapq\n",
        "\n",
        "def manhattan_distance(pos1: Tuple[int, int], pos2: Tuple[int, int]) -> int:\n",
        "    return abs(pos1[0] - pos2[0]) + abs(pos1[1] - pos2[1])\n",
        "\n",
        "def find_shortest_path(start: Tuple[int, int], end: Tuple[int, int], obstacles: List[Tuple[int, int]]) -> List[Tuple[int, int]]:\n",
        "    heap = []\n",
        "    visited = set()\n",
        "    parent = {}\n",
        "    g_score = {start: 0}\n",
        "    f_score = {start: manhattan_distance(start, end)}\n",
        "    heapq.heappush(heap, (f_score[start], start))\n",
        "\n",
        "    while heap:\n",
        "        current_f, current_pos = heapq.heappop(heap)\n",
        "\n",
        "        if current_pos == end:\n",
        "            path = []\n",
        "            while current_pos in parent:\n",
        "                path.append(current_pos)\n",
        "                current_pos = parent[current_pos]\n",
        "            path.append(start)\n",
        "            return list(reversed(path))\n",
        "\n",
        "        visited.add(current_pos)\n",
        "\n",
        "        for dx, dy in [(0, -1), (0, 1), (-1, 0), (1, 0)]:\n",
        "            neighbor_pos = (current_pos[0] + dx, current_pos[1] + dy)\n",
        "            if neighbor_pos in visited or neighbor_pos in obstacles:\n",
        "                continue\n",
        "\n",
        "            tentative_g_score = g_score[current_pos] + 1\n",
        "            if neighbor_pos not in g_score or tentative_g_score < g_score[neighbor_pos]:\n",
        "                parent[neighbor_pos] = current_pos\n",
        "                g_score[neighbor_pos] = tentative_g_score\n",
        "                f_score[neighbor_pos] = tentative_g_score + manhattan_distance(neighbor_pos, end)\n",
        "                heapq.heappush(heap, (f_score[neighbor_pos], neighbor_pos))\n",
        "\n",
        "    return []"
      ],
      "metadata": {
        "id": "grxqXlFkhPiD"
      },
      "execution_count": 2,
      "outputs": []
    },
    {
      "cell_type": "code",
      "source": [
        "print(find_shortest_path((0,0),(5,5),[(2,2),(2,1)]))"
      ],
      "metadata": {
        "colab": {
          "base_uri": "https://localhost:8080/"
        },
        "id": "Btnm0FEwhW4O",
        "outputId": "8559e5ee-be70-4406-c8dd-d6c9113e7e86"
      },
      "execution_count": 3,
      "outputs": [
        {
          "output_type": "stream",
          "name": "stdout",
          "text": [
            "[(0, 0), (0, 1), (0, 2), (0, 3), (0, 4), (0, 5), (1, 5), (2, 5), (3, 5), (4, 5), (5, 5)]\n"
          ]
        }
      ]
    },
    {
      "cell_type": "code",
      "source": [],
      "metadata": {
        "id": "wDkEdSJthZ3b"
      },
      "execution_count": null,
      "outputs": []
    }
  ]
}